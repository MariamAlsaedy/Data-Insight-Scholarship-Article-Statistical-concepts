{
  "nbformat": 4,
  "nbformat_minor": 0,
  "metadata": {
    "colab": {
      "name": "Statistical Concepts.ipynb",
      "provenance": [],
      "authorship_tag": "ABX9TyPdlsX2wuEjQIsxJUjSkriU",
      "include_colab_link": true
    },
    "kernelspec": {
      "name": "python3",
      "display_name": "Python 3"
    },
    "language_info": {
      "name": "python"
    }
  },
  "cells": [
    {
      "cell_type": "markdown",
      "metadata": {
        "id": "view-in-github",
        "colab_type": "text"
      },
      "source": [
        "<a href=\"https://colab.research.google.com/github/MariamAlsaedy/Data-Insight-Scholarship-Article-Statistical-concepts/blob/main/Statistical_Concepts.ipynb\" target=\"_parent\"><img src=\"https://colab.research.google.com/assets/colab-badge.svg\" alt=\"Open In Colab\"/></a>"
      ]
    },
    {
      "cell_type": "code",
      "execution_count": 1,
      "metadata": {
        "colab": {
          "base_uri": "https://localhost:8080/"
        },
        "id": "bHzjHCtSFCcv",
        "outputId": "200dd408-51e3-4456-a9a7-cd4681a55e9b"
      },
      "outputs": [
        {
          "output_type": "stream",
          "name": "stdout",
          "text": [
            "[-1.39443338 -1.19522861 -1.19522861 -0.19920477  0.          0.\n",
            "  0.39840954  0.5976143   1.19522861  1.79284291]\n"
          ]
        }
      ],
      "source": [
        "# Z-Score\n",
        "\n",
        "import numpy as np\n",
        "import scipy.stats as stat\n",
        "arr = np.array([6, 7, 7, 12, 13, 13, 15, 16, 19, 22])\n",
        "print(stat.zscore(arr, axis=0))"
      ]
    },
    {
      "cell_type": "code",
      "source": [
        "# Confidence Interval\n",
        "\n",
        "import scipy.stats as stat\n",
        "np.random.seed(10)\n",
        "data = np.random.randint(10, 30, 50)\n",
        "#create 95% confidence interval for population mean weight\n",
        "conf_interval = stat.norm.interval(alpha=0.95, loc=np.mean(data), scale=stat.sem(data))\n",
        "print(conf_interval)"
      ],
      "metadata": {
        "colab": {
          "base_uri": "https://localhost:8080/"
        },
        "id": "otZN0iEAIiOu",
        "outputId": "fa0ab225-cc81-4019-b816-0a54d9585de5"
      },
      "execution_count": 2,
      "outputs": [
        {
          "output_type": "stream",
          "name": "stdout",
          "text": [
            "(18.936862441586825, 22.103137558413174)\n"
          ]
        }
      ]
    },
    {
      "cell_type": "code",
      "source": [
        "# Chi-Square Test\n",
        "\n",
        "stat.chi2.pdf(3.84, 1)"
      ],
      "metadata": {
        "colab": {
          "base_uri": "https://localhost:8080/"
        },
        "id": "DlpHZv2wJ9Wv",
        "outputId": "0f4eb19c-1988-432d-f69e-c3359c9ee9b9"
      },
      "execution_count": 3,
      "outputs": [
        {
          "output_type": "execute_result",
          "data": {
            "text/plain": [
              "0.029846887483060566"
            ]
          },
          "metadata": {},
          "execution_count": 3
        }
      ]
    },
    {
      "cell_type": "code",
      "source": [
        "# Covariance \n",
        "\n",
        "arr = np.array([[2,6,8],[1,5,7],[3,6,9]])\n",
        "print(\"covariance: \", np.cov(arr))"
      ],
      "metadata": {
        "colab": {
          "base_uri": "https://localhost:8080/"
        },
        "id": "EO0D88RFL7WM",
        "outputId": "7827efd4-a453-40b7-fa0c-93ac7747907c"
      },
      "execution_count": 4,
      "outputs": [
        {
          "output_type": "stream",
          "name": "stdout",
          "text": [
            "covariance:  [[9.33333333 9.33333333 9.        ]\n",
            " [9.33333333 9.33333333 9.        ]\n",
            " [9.         9.         9.        ]]\n"
          ]
        }
      ]
    },
    {
      "cell_type": "code",
      "source": [
        ""
      ],
      "metadata": {
        "id": "s90mJNTyNSTD"
      },
      "execution_count": null,
      "outputs": []
    }
  ]
}